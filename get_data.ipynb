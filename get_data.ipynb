{
 "cells": [
  {
   "cell_type": "code",
   "execution_count": 25,
   "metadata": {
    "collapsed": true
   },
   "outputs": [],
   "source": [
    "from bs4 import BeautifulSoup\n",
    "import requests\n",
    "import pandas as pd\n",
    "import json\n",
    "from datetime import datetime\n",
    "import csv"
   ]
  },
  {
   "cell_type": "code",
   "execution_count": 26,
   "metadata": {
    "collapsed": true
   },
   "outputs": [],
   "source": [
    "def timestamp2date(timestamp):\n",
    "    # function converts a Unix timestamp into Gregorian date\n",
    "    return datetime.fromtimestamp(int(timestamp)).strftime('%Y-%m-%d-%H-%M-%S')"
   ]
  },
  {
   "cell_type": "code",
   "execution_count": 27,
   "metadata": {},
   "outputs": [
    {
     "data": {
      "text/plain": [
       "'2017-10-19-17-44-56'"
      ]
     },
     "execution_count": 27,
     "metadata": {},
     "output_type": "execute_result"
    }
   ],
   "source": [
    "timestamp2date(1508427896)"
   ]
  },
  {
   "cell_type": "code",
   "execution_count": null,
   "metadata": {
    "collapsed": true
   },
   "outputs": [],
   "source": []
  },
  {
   "cell_type": "code",
   "execution_count": 28,
   "metadata": {
    "collapsed": true
   },
   "outputs": [],
   "source": [
    "cryptos = ['BTC', 'ETH', 'XRP', 'DASH', 'LTC', 'BCH']"
   ]
  },
  {
   "cell_type": "code",
   "execution_count": 30,
   "metadata": {},
   "outputs": [
    {
     "name": "stdout",
     "output_type": "stream",
     "text": [
      "BTC\n",
      "ETH\n",
      "XRP\n",
      "DASH\n",
      "LTC\n",
      "BCH\n"
     ]
    }
   ],
   "source": [
    "for crypto in cryptos:\n",
    "    timest = []\n",
    "    time = []\n",
    "    price = []\n",
    "    tsym = 'EUR'\n",
    "    timestamp = 1508427896\n",
    "    url = \"https://min-api.cryptocompare.com/data/histoday?fsym=\" + crypto + \"&tsym=\" + tsym + \"&toTs=\" + str(timestamp) + \"&limit=2000\"\n",
    "    response = requests.get(url)\n",
    "    soup = BeautifulSoup(response.content, \"html.parser\")\n",
    "    dic = json.loads(soup.prettify())\n",
    "        \n",
    "    data = dic['Data']\n",
    "    for datum in data:\n",
    "        timest.append(datum['time'])\n",
    "        time.append(timestamp2date(datum['time']))\n",
    "        price.append(datum['close'])\n",
    "    \n",
    "    tmp = pd.DataFrame({'Timestamp': timest,\n",
    "                        'Time': time,\n",
    "                        'Price': price})\n",
    "    tmp.drop_duplicates(subset=['Timestamp', 'Time'], keep='first', inplace=True)\n",
    "\n",
    "    tmp.to_csv('./data/prices/' + crypto + '.csv', index=None)\n",
    "    print(crypto)"
   ]
  },
  {
   "cell_type": "code",
   "execution_count": null,
   "metadata": {
    "collapsed": true
   },
   "outputs": [],
   "source": []
  }
 ],
 "metadata": {
  "kernelspec": {
   "display_name": "Python 3",
   "language": "python",
   "name": "python3"
  },
  "language_info": {
   "codemirror_mode": {
    "name": "ipython",
    "version": 3
   },
   "file_extension": ".py",
   "mimetype": "text/x-python",
   "name": "python",
   "nbconvert_exporter": "python",
   "pygments_lexer": "ipython3",
   "version": "3.6.1"
  }
 },
 "nbformat": 4,
 "nbformat_minor": 2
}
