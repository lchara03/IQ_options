{
 "cells": [
  {
   "cell_type": "code",
   "execution_count": 250,
   "metadata": {
    "collapsed": true
   },
   "outputs": [],
   "source": [
    "import pandas as pd\n",
    "import numpy as np\n",
    "import cvxopt as opt\n",
    "import cvxopt.solvers as optsolvers\n",
    "from matplotlib import pylab\n",
    "import scipy.stats as sp\n",
    "import matplotlib.pyplot as plt"
   ]
  },
  {
   "cell_type": "code",
   "execution_count": 251,
   "metadata": {
    "collapsed": true
   },
   "outputs": [],
   "source": [
    "data = pd.read_csv('./data/aggregate/sec.csv')"
   ]
  },
  {
   "cell_type": "code",
   "execution_count": 252,
   "metadata": {
    "collapsed": true
   },
   "outputs": [],
   "source": [
    "data = data[data['BCH'] != 0]"
   ]
  },
  {
   "cell_type": "code",
   "execution_count": 253,
   "metadata": {
    "collapsed": true
   },
   "outputs": [],
   "source": [
    "data.drop(['Time', 'Timestamp'], axis=1, inplace=True)"
   ]
  },
  {
   "cell_type": "code",
   "execution_count": 254,
   "metadata": {},
   "outputs": [
    {
     "data": {
      "text/html": [
       "<div>\n",
       "<style>\n",
       "    .dataframe thead tr:only-child th {\n",
       "        text-align: right;\n",
       "    }\n",
       "\n",
       "    .dataframe thead th {\n",
       "        text-align: left;\n",
       "    }\n",
       "\n",
       "    .dataframe tbody tr th {\n",
       "        vertical-align: top;\n",
       "    }\n",
       "</style>\n",
       "<table border=\"1\" class=\"dataframe\">\n",
       "  <thead>\n",
       "    <tr style=\"text-align: right;\">\n",
       "      <th></th>\n",
       "      <th>BCH</th>\n",
       "      <th>BTC</th>\n",
       "      <th>DASH</th>\n",
       "      <th>ETH</th>\n",
       "      <th>LTC</th>\n",
       "      <th>XRP</th>\n",
       "    </tr>\n",
       "  </thead>\n",
       "  <tbody>\n",
       "    <tr>\n",
       "      <th>1922</th>\n",
       "      <td>415.00</td>\n",
       "      <td>2283.06</td>\n",
       "      <td>154.00</td>\n",
       "      <td>184.00</td>\n",
       "      <td>35.11</td>\n",
       "      <td>0.1450</td>\n",
       "    </tr>\n",
       "    <tr>\n",
       "      <th>1923</th>\n",
       "      <td>341.00</td>\n",
       "      <td>2373.92</td>\n",
       "      <td>160.00</td>\n",
       "      <td>191.25</td>\n",
       "      <td>36.24</td>\n",
       "      <td>0.1488</td>\n",
       "    </tr>\n",
       "    <tr>\n",
       "      <th>1924</th>\n",
       "      <td>240.01</td>\n",
       "      <td>2431.35</td>\n",
       "      <td>159.65</td>\n",
       "      <td>187.10</td>\n",
       "      <td>36.59</td>\n",
       "      <td>0.1473</td>\n",
       "    </tr>\n",
       "    <tr>\n",
       "      <th>1925</th>\n",
       "      <td>211.00</td>\n",
       "      <td>2759.23</td>\n",
       "      <td>164.23</td>\n",
       "      <td>214.10</td>\n",
       "      <td>39.15</td>\n",
       "      <td>0.1564</td>\n",
       "    </tr>\n",
       "    <tr>\n",
       "      <th>1926</th>\n",
       "      <td>237.00</td>\n",
       "      <td>2734.11</td>\n",
       "      <td>160.66</td>\n",
       "      <td>224.80</td>\n",
       "      <td>38.53</td>\n",
       "      <td>0.1531</td>\n",
       "    </tr>\n",
       "  </tbody>\n",
       "</table>\n",
       "</div>"
      ],
      "text/plain": [
       "         BCH      BTC    DASH     ETH    LTC     XRP\n",
       "1922  415.00  2283.06  154.00  184.00  35.11  0.1450\n",
       "1923  341.00  2373.92  160.00  191.25  36.24  0.1488\n",
       "1924  240.01  2431.35  159.65  187.10  36.59  0.1473\n",
       "1925  211.00  2759.23  164.23  214.10  39.15  0.1564\n",
       "1926  237.00  2734.11  160.66  224.80  38.53  0.1531"
      ]
     },
     "execution_count": 254,
     "metadata": {},
     "output_type": "execute_result"
    }
   ],
   "source": [
    "data.head()"
   ]
  },
  {
   "cell_type": "code",
   "execution_count": 255,
   "metadata": {
    "collapsed": true
   },
   "outputs": [],
   "source": [
    "log_returns_daily=np.log(data)-np.log(data.shift(1))"
   ]
  },
  {
   "cell_type": "code",
   "execution_count": 256,
   "metadata": {},
   "outputs": [
    {
     "data": {
      "image/png": "[encoded data removed]",
      "text/plain": [
       "<matplotlib.figure.Figure at 0x1a1fc93978>"
      ]
     },
     "metadata": {},
     "output_type": "display_data"
    }
   ],
   "source": [
    "sp.probplot(log_returns_daily.loc[:,'BTC'], dist='norm', fit=True,plot=pylab)\n",
    "plt.title('QQPlot Bitcoin Daily Log Returns')\n",
    "pylab.savefig('QQplot.png', bbox_inches='tight')\n",
    "pylab.show()\n",
    "plt.show()"
   ]
  },
  {
   "cell_type": "code",
   "execution_count": 257,
   "metadata": {
    "collapsed": true
   },
   "outputs": [],
   "source": [
    "log_returns_daily = log_returns_daily.iloc[1:]"
   ]
  },
  {
   "cell_type": "code",
   "execution_count": 258,
   "metadata": {
    "collapsed": true
   },
   "outputs": [],
   "source": [
    "Covariance=np.cov(log_returns_daily,rowvar=False)\n",
    "Returns=np.mean(log_returns_daily,axis=0)"
   ]
  },
  {
   "cell_type": "code",
   "execution_count": null,
   "metadata": {
    "collapsed": true
   },
   "outputs": [],
   "source": []
  },
  {
   "cell_type": "markdown",
   "metadata": {},
   "source": [
    "## Minimum Variance Optimization"
   ]
  },
  {
   "cell_type": "code",
   "execution_count": 259,
   "metadata": {
    "collapsed": true
   },
   "outputs": [],
   "source": [
    "def optimMV(Covariance):\n",
    "    Covariance = pd.DataFrame(Covariance)\n",
    "    n = len(Covariance)\n",
    "    index = Covariance.index\n",
    "    Covariance = Covariance.as_matrix()\n",
    "    P = opt.matrix(Covariance)\n",
    "    q = opt.matrix(0.0, (n, 1))\n",
    "    A = opt.matrix(1.0, (1, n))\n",
    "    b = opt.matrix(1.0)\n",
    "    optsolvers.options['show_progress'] = False\n",
    "    sol = optsolvers.qp(P, q, A, b)\n",
    "    #weightsMV = pd.Series(sol['x'], index=Covariance.index)\n",
    "    weightsMV = pd.Series(sol['x'], index)\n",
    "    weightsMV/=weightsMV.sum()\n",
    "    return weightsMV\n"
   ]
  },
  {
   "cell_type": "markdown",
   "metadata": {
    "collapsed": true
   },
   "source": [
    "## Maximize Sharpe Ratio Optimization"
   ]
  },
  {
   "cell_type": "code",
   "execution_count": 260,
   "metadata": {
    "collapsed": true
   },
   "outputs": [],
   "source": [
    "def optSR(Log_Returns,Covariance):\n",
    "\n",
    "    n = len(Covariance)\n",
    "   \n",
    "    P = opt.matrix(Covariance)\n",
    "    q = opt.matrix(0.0, (n, 1))\n",
    "    G = opt.matrix(np.vstack((-Log_Returns, -np.identity(n))))\n",
    "    h = opt.matrix(np.vstack((-1.0, np.zeros((n, 1)))))\n",
    "    sol2 = optsolvers.qp(P, q, G, h)\n",
    "    weightsSR = pd.Series(sol2['x'])\n",
    "    weightsSR /= weightsSR.sum()\n",
    "    return weightsSR\n",
    "\n"
   ]
  },
  {
   "cell_type": "markdown",
   "metadata": {},
   "source": [
    "## Risk Parity Optimization"
   ]
  },
  {
   "cell_type": "code",
   "execution_count": 261,
   "metadata": {
    "collapsed": true
   },
   "outputs": [],
   "source": [
    "def RiskParity(Covariance):\n",
    "    Covariance = pd.DataFrame(Covariance)\n",
    "    weightsRP=np.zeros(len(Covariance))\n",
    "    for i in range(len(Covariance)):\n",
    "        weightsRP[i]=1/(Covariance.iloc[i,i])\n",
    "    weightsRP /= weightsRP.sum()\n",
    "    return pd.Series(weightsRP)\n",
    "    "
   ]
  },
  {
   "cell_type": "markdown",
   "metadata": {},
   "source": [
    "## Minimum Variance Weights"
   ]
  },
  {
   "cell_type": "code",
   "execution_count": 262,
   "metadata": {},
   "outputs": [
    {
     "name": "stdout",
     "output_type": "stream",
     "text": [
      "0    0.074722\n",
      "1    0.807714\n",
      "2    0.115941\n",
      "3   -0.105635\n",
      "4   -0.154292\n",
      "5    0.261550\n",
      "dtype: float64\n"
     ]
    }
   ],
   "source": [
    "weightsMV=optimMV(Covariance)\n",
    "print(weightsMV)"
   ]
  },
  {
   "cell_type": "code",
   "execution_count": 263,
   "metadata": {},
   "outputs": [
    {
     "name": "stdout",
     "output_type": "stream",
     "text": [
      "0    0.050961\n",
      "1    0.305538\n",
      "2    0.144182\n",
      "3    0.213663\n",
      "4    0.133256\n",
      "5    0.152400\n",
      "dtype: float64\n"
     ]
    }
   ],
   "source": [
    "weightsRP=RiskParity(Covariance)\n",
    "print(weightsRP)"
   ]
  },
  {
   "cell_type": "code",
   "execution_count": 264,
   "metadata": {},
   "outputs": [
    {
     "name": "stdout",
     "output_type": "stream",
     "text": [
      "0    2.796659e-08\n",
      "1    9.999980e-01\n",
      "2    1.317635e-06\n",
      "3    7.490890e-08\n",
      "4    5.573159e-08\n",
      "5    5.455789e-07\n",
      "dtype: float64\n"
     ]
    }
   ],
   "source": [
    "weightsSR=optSR(Returns,Covariance)\n",
    "print(weightsSR)"
   ]
  },
  {
   "cell_type": "code",
   "execution_count": null,
   "metadata": {
    "collapsed": true
   },
   "outputs": [],
   "source": []
  }
 ],
 "metadata": {
  "kernelspec": {
   "display_name": "Python 3",
   "language": "python",
   "name": "python3"
  },
  "language_info": {
   "codemirror_mode": {
    "name": "ipython",
    "version": 3
   },
   "file_extension": ".py",
   "mimetype": "text/x-python",
   "name": "python",
   "nbconvert_exporter": "python",
   "pygments_lexer": "ipython3",
   "version": "3.6.1"
  }
 },
 "nbformat": 4,
 "nbformat_minor": 2
}
