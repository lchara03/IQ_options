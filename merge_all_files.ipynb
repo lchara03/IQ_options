{
 "cells": [
  {
   "cell_type": "code",
   "execution_count": 1,
   "metadata": {
    "collapsed": true
   },
   "outputs": [],
   "source": [
    "import os\n",
    "import pandas as pd"
   ]
  },
  {
   "cell_type": "code",
   "execution_count": 30,
   "metadata": {
    "collapsed": true
   },
   "outputs": [],
   "source": [
    "cryptos = os.listdir('./data/prices/')\n",
    "cryptos = [crypto.split('.')[0] for crypto in cryptos]\n",
    "cryptos = cryptos[1:]"
   ]
  },
  {
   "cell_type": "code",
   "execution_count": 36,
   "metadata": {
    "collapsed": true
   },
   "outputs": [],
   "source": [
    "filename = './data/prices/' + cryptos[0] + '.csv'\n",
    "tmp_left = pd.read_csv(filename)\n",
    "tmp_left = tmp_left.rename(columns = {'Price':cryptos[0]})\n",
    "for crypto in cryptos[1:]:\n",
    "    filename = './data/prices/' + crypto + '.csv'\n",
    "    tmp_right = pd.read_csv(filename)\n",
    "    tmp_right = tmp_right.rename(columns = {'Price':crypto})\n",
    "    tmp_left = pd.merge(tmp_left,\n",
    "                       tmp_right,\n",
    "                       on=['Timestamp', 'Time'],\n",
    "                       how='left')\n",
    "    "
   ]
  },
  {
   "cell_type": "code",
   "execution_count": 39,
   "metadata": {
    "collapsed": true
   },
   "outputs": [],
   "source": [
    "# sort the dataframe\n",
    "final_table = tmp_left.sort_values('Timestamp')"
   ]
  },
  {
   "cell_type": "code",
   "execution_count": 41,
   "metadata": {
    "collapsed": true,
    "scrolled": false
   },
   "outputs": [],
   "source": [
    "final_table = final_table.reset_index(drop=True)"
   ]
  },
  {
   "cell_type": "code",
   "execution_count": null,
   "metadata": {
    "collapsed": true
   },
   "outputs": [],
   "source": [
    "final_table.to_csv('./data/aggregate/sec.csv', index=None)"
   ]
  },
  {
   "cell_type": "code",
   "execution_count": null,
   "metadata": {
    "collapsed": true
   },
   "outputs": [],
   "source": []
  },
  {
   "cell_type": "code",
   "execution_count": null,
   "metadata": {
    "collapsed": true
   },
   "outputs": [],
   "source": []
  }
 ],
 "metadata": {
  "kernelspec": {
   "display_name": "Python 3",
   "language": "python",
   "name": "python3"
  },
  "language_info": {
   "codemirror_mode": {
    "name": "ipython",
    "version": 3
   },
   "file_extension": ".py",
   "mimetype": "text/x-python",
   "name": "python",
   "nbconvert_exporter": "python",
   "pygments_lexer": "ipython3",
   "version": "3.6.1"
  }
 },
 "nbformat": 4,
 "nbformat_minor": 2
}
